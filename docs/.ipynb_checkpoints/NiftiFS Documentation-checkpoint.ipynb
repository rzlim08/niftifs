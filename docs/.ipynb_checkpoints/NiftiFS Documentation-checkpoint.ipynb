{
 "cells": [
  {
   "cell_type": "markdown",
   "metadata": {},
   "source": [
    "# NiftiFS\n",
    "\n",
    "##### Ryan Lim"
   ]
  },
  {
   "cell_type": "markdown",
   "metadata": {
    "hideCode": true,
    "hideOutput": true
   },
   "source": [
    "### Introduction\n",
    "NiftiFS is a simple class meant to add a layer of abstraction to a regular filesystem. The goals are: \n",
    "1. To make it simpler and easier to run functions on scans\n",
    "2. To create a more systematic approach to preprocessing/data cleaning\n",
    "3. To make a reproducible and stable system of analysis\n",
    "4. To facilitate the modularity of the system as well as the ability to parallelize certain functions\n",
    "\n",
    "Overall, the goal is to not have to deal with the filesystem at all, and to instead structure the data more strictly. Doing this allows us to make assumptions about our data, and makes it easier to run analyses."
   ]
  },
  {
   "cell_type": "code",
   "execution_count": null,
   "metadata": {
    "collapsed": true
   },
   "outputs": [],
   "source": [
    "%% example\n",
    "\n",
    "fs = NiftiFS(pwd);\n",
    "set_functional_dirstruct(fs, '{top_level}/{subjects}/{runs}/{scans}');\n",
    "set_subject_strmatch(fs, 's*');\n",
    "set_scan_strmatch(fs, 'f*.img');\n",
    "set_subjects(fs);\n",
    "set_runs(fs);\n",
    "fs.summary\n"
   ]
  },
  {
   "cell_type": "markdown",
   "metadata": {},
   "source": [
    "As an example, I've included code above that demonstrates how you would run a reslice operation on the Multiple Subjects & Runs dataset here: https://www.nitrc.org/projects/fmricpca\n",
    "\n",
    "The first line \"fs = NiftiFS(pwd)\" sets the current working path as the top level directory. The top level directory encompasses all functional scans. Structural scans may be kept within this folder, or may be left outside. Because of some weirdness in the past with relative pathing in Matlab, it's recommended that this is an absolute path. fs is the filesystem object. This contains all the relevant variables. \n",
    "\n",
    "The set_functional_dirstruct function gives an outline of the structure of the directory. All must start with the {top_level} then follow with {subjects} or {groups}, etc. If there are folders within the structure that aren't relevant to the experiment, they can just be named with or without a wildcard, eg. ('{top_level}/{subjects}/Structural/PUSAG\\*/{scans}'). Note that {subjects}, {groups}, {runs}, {scans} are all pluralized. Also note that while there doesn't need to be a strict structure, all elements must at least exist at the same level of subdirectory. \n",
    "\n",
    "The strmatch functions find all files or folders which match a given string. For example, if all subjects start with s, the subject_strmatch will be set_subject_strmatch(fs, 's\\*'); This will be the same for all runs/groups, etc. If this isn't set, the default is '\\*', which simply selects all folders. \n",
    "\n",
    "Set functions simply set the relevant variables. \n",
    "\n",
    "The get_subj_scans(fs) function is run once all variables are set and accurate, i.e. if fs.subjects contains all subjects, and fs.runs contains all runs. The function returns a struct which contains the subjects, the scans associated with the subjects, as well as the runs and the scans associated with those. If there are no runs this field will be empty. Finally, there are several examples of runners which will run each scan or all scans for a particular subject. \n",
    "\n"
   ]
  },
  {
   "cell_type": "markdown",
   "metadata": {
    "collapsed": true
   },
   "source": [
    "![title](screenshot.png)"
   ]
  }
 ],
 "metadata": {
  "kernelspec": {
   "display_name": "Python 3",
   "language": "python",
   "name": "python3"
  },
  "language_info": {
   "codemirror_mode": {
    "name": "ipython",
    "version": 3
   },
   "file_extension": ".py",
   "mimetype": "text/x-python",
   "name": "python",
   "nbconvert_exporter": "python",
   "pygments_lexer": "ipython3",
   "version": "3.4.3"
  }
 },
 "nbformat": 4,
 "nbformat_minor": 2
}
